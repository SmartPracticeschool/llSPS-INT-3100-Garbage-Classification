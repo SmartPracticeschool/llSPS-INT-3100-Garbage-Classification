{
  "nbformat": 4,
  "nbformat_minor": 0,
  "metadata": {
    "colab": {
      "name": "intershipML.ipynb",
      "provenance": [],
      "collapsed_sections": []
    },
    "kernelspec": {
      "name": "python3",
      "display_name": "Python 3"
    },
    "accelerator": "GPU"
  },
  "cells": [
    {
      "cell_type": "code",
      "metadata": {
        "id": "RV8NT6WJ20YE",
        "colab_type": "code",
        "colab": {}
      },
      "source": [
        "import os\n",
        "import PIL\n",
        "from PIL import Image\n",
        "import scipy\n",
        "import tensorflow as tf\n",
        "import tensorflow.keras as keras\n",
        "from tensorflow.keras.callbacks import ModelCheckpoint\n",
        "from tensorflow.keras.layers import Conv2D, Flatten, MaxPooling2D,Dense,Dropout\n",
        "from tensorflow.keras.models  import Sequential\n",
        "from tensorflow.keras.preprocessing.image import ImageDataGenerator\n"
      ],
      "execution_count": 1,
      "outputs": []
    },
    {
      "cell_type": "code",
      "metadata": {
        "id": "Csv9xWDF3H65",
        "colab_type": "code",
        "colab": {}
      },
      "source": [
        "import matplotlib.pyplot as plt\n",
        "def plot_imgs(item_dir, top=10):\n",
        "    all_item_dirs = os.listdir(item_dir)\n",
        "    item_files = [os.path.join(item_dir, file) for file in all_item_dirs][:5]\n",
        "  \n",
        "    plt.figure(figsize=(10, 10))\n",
        "  \n",
        "    for idx, img_path in enumerate(item_files):\n",
        "        plt.subplot(5, 5, idx+1)\n",
        "    \n",
        "        img = plt.imread(img_path)\n",
        "        plt.tight_layout()         \n",
        "        plt.imshow(img, cmap='gray') \n",
        "\n",
        "    "
      ],
      "execution_count": 2,
      "outputs": []
    },
    {
      "cell_type": "code",
      "metadata": {
        "id": "Byde8Ef53H_C",
        "colab_type": "code",
        "colab": {
          "base_uri": "https://localhost:8080/",
          "height": 122
        },
        "outputId": "d987bed9-8471-4bf3-efec-b2d3b971ca67"
      },
      "source": [
        "from google.colab import drive\n",
        "drive.mount('/content/gdrive')"
      ],
      "execution_count": 3,
      "outputs": [
        {
          "output_type": "stream",
          "text": [
            "Go to this URL in a browser: https://accounts.google.com/o/oauth2/auth?client_id=947318989803-6bn6qk8qdgf4n4g3pfee6491hc0brc4i.apps.googleusercontent.com&redirect_uri=urn%3aietf%3awg%3aoauth%3a2.0%3aoob&response_type=code&scope=email%20https%3a%2f%2fwww.googleapis.com%2fauth%2fdocs.test%20https%3a%2f%2fwww.googleapis.com%2fauth%2fdrive%20https%3a%2f%2fwww.googleapis.com%2fauth%2fdrive.photos.readonly%20https%3a%2f%2fwww.googleapis.com%2fauth%2fpeopleapi.readonly\n",
            "\n",
            "Enter your authorization code:\n",
            "··········\n",
            "Mounted at /content/gdrive\n"
          ],
          "name": "stdout"
        }
      ]
    },
    {
      "cell_type": "code",
      "metadata": {
        "id": "WpIQZn_03H9V",
        "colab_type": "code",
        "colab": {
          "base_uri": "https://localhost:8080/",
          "height": 34
        },
        "outputId": "262794ed-d287-41c4-e6e1-dd37ebf63e4f"
      },
      "source": [
        "print(os.listdir(\"gdrive/My Drive/ml/81794_189983_bundle_archive/Garbage classification/Garbage classification\"))"
      ],
      "execution_count": 4,
      "outputs": [
        {
          "output_type": "stream",
          "text": [
            "['plastic', 'metal', 'paper', 'cardboard', 'glass', 'trash']\n"
          ],
          "name": "stdout"
        }
      ]
    },
    {
      "cell_type": "code",
      "metadata": {
        "id": "6Ql1kzsJ60A2",
        "colab_type": "code",
        "colab": {}
      },
      "source": [
        "data_path = \"gdrive/My Drive/ml/81794_189983_bundle_archive/Garbage classification/Garbage classification\""
      ],
      "execution_count": 5,
      "outputs": []
    },
    {
      "cell_type": "code",
      "metadata": {
        "id": "WyYPReh48NU1",
        "colab_type": "code",
        "colab": {}
      },
      "source": [
        "batch_size = 32"
      ],
      "execution_count": 6,
      "outputs": []
    },
    {
      "cell_type": "code",
      "metadata": {
        "id": "HhCOXuYL8Pd8",
        "colab_type": "code",
        "colab": {
          "base_uri": "https://localhost:8080/",
          "height": 51
        },
        "outputId": "bb772c90-4c6e-43b7-cdef-41997f91efb5"
      },
      "source": [
        "# Data Generator\n",
        "train=ImageDataGenerator(horizontal_flip=True, vertical_flip=True,validation_split=0.1,rescale=1./255,\n",
        "                         shear_range = 0.1,zoom_range = 0.1,\n",
        "                         width_shift_range = 0.1,\n",
        "                         height_shift_range = 0.1,)\n",
        "\n",
        "test=ImageDataGenerator(rescale=1./255,validation_split=0.1)\n",
        "\n",
        "train_generator=train.flow_from_directory(data_path,target_size=(300,300),batch_size=batch_size,class_mode='categorical',subset='training')\n",
        "\n",
        "test_generator=test.flow_from_directory(data_path,target_size=(300,300),batch_size=batch_size,class_mode='categorical',subset='validation')"
      ],
      "execution_count": 7,
      "outputs": [
        {
          "output_type": "stream",
          "text": [
            "Found 2276 images belonging to 6 classes.\n",
            "Found 251 images belonging to 6 classes.\n"
          ],
          "name": "stdout"
        }
      ]
    },
    {
      "cell_type": "code",
      "metadata": {
        "id": "XDcdXFbu8TD5",
        "colab_type": "code",
        "colab": {
          "base_uri": "https://localhost:8080/",
          "height": 34
        },
        "outputId": "b0ea3be0-e219-4126-f475-51055938a005"
      },
      "source": [
        "labels = (train_generator.class_indices)\n",
        "labels = dict((v,k) for k,v in labels.items())\n",
        "print(labels)"
      ],
      "execution_count": 8,
      "outputs": [
        {
          "output_type": "stream",
          "text": [
            "{0: 'cardboard', 1: 'glass', 2: 'metal', 3: 'paper', 4: 'plastic', 5: 'trash'}\n"
          ],
          "name": "stdout"
        }
      ]
    },
    {
      "cell_type": "code",
      "metadata": {
        "id": "K81ULzF28WLy",
        "colab_type": "code",
        "colab": {}
      },
      "source": [
        "num_classes = 6"
      ],
      "execution_count": 9,
      "outputs": []
    },
    {
      "cell_type": "code",
      "metadata": {
        "id": "L4Qbumwt8YHl",
        "colab_type": "code",
        "colab": {
          "base_uri": "https://localhost:8080/",
          "height": 493
        },
        "outputId": "cf8b12d9-dbc0-4977-8517-bbc2bcd15e5f"
      },
      "source": [
        "model = Sequential()\n",
        "\n",
        "model.add(Conv2D(32,(3,3), padding='same', input_shape=(300,300,3),activation='relu'))\n",
        "model.add(MaxPooling2D(pool_size=(2,2))) \n",
        "model.add(Conv2D(64,(3,3), padding='same', activation='relu'))\n",
        "model.add(MaxPooling2D(pool_size=(2,2))) \n",
        "model.add(Conv2D(32,(3,3), padding='same', activation='relu'))\n",
        "model.add(MaxPooling2D(pool_size=(2,2))) \n",
        "model.add(Flatten())\n",
        "model.add(Dense(64,activation='relu'))\n",
        "model.add(Dropout(0.5))\n",
        "model.add(Dense(num_classes,activation='softmax'))\n",
        "\n",
        "model.summary()"
      ],
      "execution_count": 10,
      "outputs": [
        {
          "output_type": "stream",
          "text": [
            "Model: \"sequential\"\n",
            "_________________________________________________________________\n",
            "Layer (type)                 Output Shape              Param #   \n",
            "=================================================================\n",
            "conv2d (Conv2D)              (None, 300, 300, 32)      896       \n",
            "_________________________________________________________________\n",
            "max_pooling2d (MaxPooling2D) (None, 150, 150, 32)      0         \n",
            "_________________________________________________________________\n",
            "conv2d_1 (Conv2D)            (None, 150, 150, 64)      18496     \n",
            "_________________________________________________________________\n",
            "max_pooling2d_1 (MaxPooling2 (None, 75, 75, 64)        0         \n",
            "_________________________________________________________________\n",
            "conv2d_2 (Conv2D)            (None, 75, 75, 32)        18464     \n",
            "_________________________________________________________________\n",
            "max_pooling2d_2 (MaxPooling2 (None, 37, 37, 32)        0         \n",
            "_________________________________________________________________\n",
            "flatten (Flatten)            (None, 43808)             0         \n",
            "_________________________________________________________________\n",
            "dense (Dense)                (None, 64)                2803776   \n",
            "_________________________________________________________________\n",
            "dropout (Dropout)            (None, 64)                0         \n",
            "_________________________________________________________________\n",
            "dense_1 (Dense)              (None, 6)                 390       \n",
            "=================================================================\n",
            "Total params: 2,842,022\n",
            "Trainable params: 2,842,022\n",
            "Non-trainable params: 0\n",
            "_________________________________________________________________\n"
          ],
          "name": "stdout"
        }
      ]
    },
    {
      "cell_type": "code",
      "metadata": {
        "id": "P2eTNoZ_8Yll",
        "colab_type": "code",
        "colab": {}
      },
      "source": [
        "model.compile(loss='categorical_crossentropy', optimizer='adam', metrics=['accuracy'])"
      ],
      "execution_count": 11,
      "outputs": []
    },
    {
      "cell_type": "code",
      "metadata": {
        "id": "OmQdXf-w8Yrl",
        "colab_type": "code",
        "colab": {}
      },
      "source": [
        "model_path=\"gdrive/My Drive/ml/yu/garbage_cnn.h5\"\n",
        "checkpoint1 = ModelCheckpoint(model_path, monitor='val_accuracy', verbose=1, save_best_only=True, mode='max')\n",
        "callbacks_list = [checkpoint1]"
      ],
      "execution_count": 12,
      "outputs": []
    },
    {
      "cell_type": "code",
      "metadata": {
        "id": "ePKzb_4X8Yug",
        "colab_type": "code",
        "colab": {}
      },
      "source": [
        "num_epochs = 100\n",
        "step_size_train=train_generator.n//train_generator.batch_size\n",
        "step_size_test =test_generator.n//test_generator.batch_size\n"
      ],
      "execution_count": 13,
      "outputs": []
    },
    {
      "cell_type": "code",
      "metadata": {
        "id": "fawF6adU8lUP",
        "colab_type": "code",
        "colab": {
          "base_uri": "https://localhost:8080/",
          "height": 1000
        },
        "outputId": "428daa92-9202-4664-fc25-d7ef292ca90f"
      },
      "source": [
        "# Train Model\n",
        "history = model.fit_generator(train_generator, epochs=num_epochs, steps_per_epoch=step_size_train,validation_data=test_generator,\n",
        "                    validation_steps=step_size_test,callbacks=callbacks_list)"
      ],
      "execution_count": 14,
      "outputs": [
        {
          "output_type": "stream",
          "text": [
            "WARNING:tensorflow:From <ipython-input-14-ffb6e53864cf>:3: Model.fit_generator (from tensorflow.python.keras.engine.training) is deprecated and will be removed in a future version.\n",
            "Instructions for updating:\n",
            "Please use Model.fit, which supports generators.\n",
            "Epoch 1/100\n",
            "71/71 [==============================] - ETA: 0s - loss: 1.7794 - accuracy: 0.2277 \n",
            "Epoch 00001: val_accuracy improved from -inf to 0.21429, saving model to gdrive/My Drive/ml/yu/garbage_cnn.h5\n",
            "71/71 [==============================] - 1189s 17s/step - loss: 1.7794 - accuracy: 0.2277 - val_loss: 1.6464 - val_accuracy: 0.2143\n",
            "Epoch 2/100\n",
            "71/71 [==============================] - ETA: 0s - loss: 1.6396 - accuracy: 0.3021\n",
            "Epoch 00002: val_accuracy improved from 0.21429 to 0.36607, saving model to gdrive/My Drive/ml/yu/garbage_cnn.h5\n",
            "71/71 [==============================] - 60s 848ms/step - loss: 1.6396 - accuracy: 0.3021 - val_loss: 1.5191 - val_accuracy: 0.3661\n",
            "Epoch 3/100\n",
            "71/71 [==============================] - ETA: 0s - loss: 1.5355 - accuracy: 0.3694\n",
            "Epoch 00003: val_accuracy improved from 0.36607 to 0.42411, saving model to gdrive/My Drive/ml/yu/garbage_cnn.h5\n",
            "71/71 [==============================] - 60s 841ms/step - loss: 1.5355 - accuracy: 0.3694 - val_loss: 1.4484 - val_accuracy: 0.4241\n",
            "Epoch 4/100\n",
            "71/71 [==============================] - ETA: 0s - loss: 1.4509 - accuracy: 0.4265\n",
            "Epoch 00004: val_accuracy improved from 0.42411 to 0.46875, saving model to gdrive/My Drive/ml/yu/garbage_cnn.h5\n",
            "71/71 [==============================] - 60s 839ms/step - loss: 1.4509 - accuracy: 0.4265 - val_loss: 1.3926 - val_accuracy: 0.4688\n",
            "Epoch 5/100\n",
            "71/71 [==============================] - ETA: 0s - loss: 1.4033 - accuracy: 0.4412\n",
            "Epoch 00005: val_accuracy improved from 0.46875 to 0.53571, saving model to gdrive/My Drive/ml/yu/garbage_cnn.h5\n",
            "71/71 [==============================] - 59s 836ms/step - loss: 1.4033 - accuracy: 0.4412 - val_loss: 1.3074 - val_accuracy: 0.5357\n",
            "Epoch 6/100\n",
            "71/71 [==============================] - ETA: 0s - loss: 1.3897 - accuracy: 0.4474\n",
            "Epoch 00006: val_accuracy did not improve from 0.53571\n",
            "71/71 [==============================] - 59s 834ms/step - loss: 1.3897 - accuracy: 0.4474 - val_loss: 1.4170 - val_accuracy: 0.4643\n",
            "Epoch 7/100\n",
            "71/71 [==============================] - ETA: 0s - loss: 1.4503 - accuracy: 0.4234\n",
            "Epoch 00007: val_accuracy did not improve from 0.53571\n",
            "71/71 [==============================] - 58s 815ms/step - loss: 1.4503 - accuracy: 0.4234 - val_loss: 1.3004 - val_accuracy: 0.5089\n",
            "Epoch 8/100\n",
            "71/71 [==============================] - ETA: 0s - loss: 1.3428 - accuracy: 0.4684\n",
            "Epoch 00008: val_accuracy did not improve from 0.53571\n",
            "71/71 [==============================] - 58s 822ms/step - loss: 1.3428 - accuracy: 0.4684 - val_loss: 1.2457 - val_accuracy: 0.5134\n",
            "Epoch 9/100\n",
            "71/71 [==============================] - ETA: 0s - loss: 1.3137 - accuracy: 0.4759\n",
            "Epoch 00009: val_accuracy did not improve from 0.53571\n",
            "71/71 [==============================] - 58s 819ms/step - loss: 1.3137 - accuracy: 0.4759 - val_loss: 1.3560 - val_accuracy: 0.4777\n",
            "Epoch 10/100\n",
            "71/71 [==============================] - ETA: 0s - loss: 1.2853 - accuracy: 0.4960\n",
            "Epoch 00010: val_accuracy did not improve from 0.53571\n",
            "71/71 [==============================] - 59s 824ms/step - loss: 1.2853 - accuracy: 0.4960 - val_loss: 1.2180 - val_accuracy: 0.5312\n",
            "Epoch 11/100\n",
            "71/71 [==============================] - ETA: 0s - loss: 1.2660 - accuracy: 0.4969\n",
            "Epoch 00011: val_accuracy improved from 0.53571 to 0.55804, saving model to gdrive/My Drive/ml/yu/garbage_cnn.h5\n",
            "71/71 [==============================] - 60s 851ms/step - loss: 1.2660 - accuracy: 0.4969 - val_loss: 1.2179 - val_accuracy: 0.5580\n",
            "Epoch 12/100\n",
            "71/71 [==============================] - ETA: 0s - loss: 1.2803 - accuracy: 0.4924\n",
            "Epoch 00012: val_accuracy did not improve from 0.55804\n",
            "71/71 [==============================] - 58s 823ms/step - loss: 1.2803 - accuracy: 0.4924 - val_loss: 1.2215 - val_accuracy: 0.5000\n",
            "Epoch 13/100\n",
            "71/71 [==============================] - ETA: 0s - loss: 1.2593 - accuracy: 0.5000\n",
            "Epoch 00013: val_accuracy did not improve from 0.55804\n",
            "71/71 [==============================] - 57s 805ms/step - loss: 1.2593 - accuracy: 0.5000 - val_loss: 1.2611 - val_accuracy: 0.5223\n",
            "Epoch 14/100\n",
            "71/71 [==============================] - ETA: 0s - loss: 1.2004 - accuracy: 0.5339\n",
            "Epoch 00014: val_accuracy improved from 0.55804 to 0.57143, saving model to gdrive/My Drive/ml/yu/garbage_cnn.h5\n",
            "71/71 [==============================] - 58s 820ms/step - loss: 1.2004 - accuracy: 0.5339 - val_loss: 1.1783 - val_accuracy: 0.5714\n",
            "Epoch 15/100\n",
            "71/71 [==============================] - ETA: 0s - loss: 1.2588 - accuracy: 0.5183\n",
            "Epoch 00015: val_accuracy did not improve from 0.57143\n",
            "71/71 [==============================] - 58s 814ms/step - loss: 1.2588 - accuracy: 0.5183 - val_loss: 1.1944 - val_accuracy: 0.5714\n",
            "Epoch 16/100\n",
            "71/71 [==============================] - ETA: 0s - loss: 1.2134 - accuracy: 0.5468\n",
            "Epoch 00016: val_accuracy did not improve from 0.57143\n",
            "71/71 [==============================] - 58s 818ms/step - loss: 1.2134 - accuracy: 0.5468 - val_loss: 1.1470 - val_accuracy: 0.5670\n",
            "Epoch 17/100\n",
            "71/71 [==============================] - ETA: 0s - loss: 1.2071 - accuracy: 0.5352\n",
            "Epoch 00017: val_accuracy did not improve from 0.57143\n",
            "71/71 [==============================] - 57s 804ms/step - loss: 1.2071 - accuracy: 0.5352 - val_loss: 1.1485 - val_accuracy: 0.5491\n",
            "Epoch 18/100\n",
            "71/71 [==============================] - ETA: 0s - loss: 1.1834 - accuracy: 0.5365\n",
            "Epoch 00018: val_accuracy did not improve from 0.57143\n",
            "71/71 [==============================] - 58s 811ms/step - loss: 1.1834 - accuracy: 0.5365 - val_loss: 1.2356 - val_accuracy: 0.5268\n",
            "Epoch 19/100\n",
            "71/71 [==============================] - ETA: 0s - loss: 1.1657 - accuracy: 0.5455\n",
            "Epoch 00019: val_accuracy did not improve from 0.57143\n",
            "71/71 [==============================] - 57s 810ms/step - loss: 1.1657 - accuracy: 0.5455 - val_loss: 1.2528 - val_accuracy: 0.5402\n",
            "Epoch 20/100\n",
            "71/71 [==============================] - ETA: 0s - loss: 1.1642 - accuracy: 0.5504\n",
            "Epoch 00020: val_accuracy did not improve from 0.57143\n",
            "71/71 [==============================] - 57s 809ms/step - loss: 1.1642 - accuracy: 0.5504 - val_loss: 1.1233 - val_accuracy: 0.5625\n",
            "Epoch 21/100\n",
            "71/71 [==============================] - ETA: 0s - loss: 1.1498 - accuracy: 0.5575\n",
            "Epoch 00021: val_accuracy did not improve from 0.57143\n",
            "71/71 [==============================] - 58s 812ms/step - loss: 1.1498 - accuracy: 0.5575 - val_loss: 1.1648 - val_accuracy: 0.5223\n",
            "Epoch 22/100\n",
            "71/71 [==============================] - ETA: 0s - loss: 1.1569 - accuracy: 0.5695\n",
            "Epoch 00022: val_accuracy did not improve from 0.57143\n",
            "71/71 [==============================] - 58s 817ms/step - loss: 1.1569 - accuracy: 0.5695 - val_loss: 1.1720 - val_accuracy: 0.5134\n",
            "Epoch 23/100\n",
            "71/71 [==============================] - ETA: 0s - loss: 1.0958 - accuracy: 0.5865\n",
            "Epoch 00023: val_accuracy improved from 0.57143 to 0.62500, saving model to gdrive/My Drive/ml/yu/garbage_cnn.h5\n",
            "71/71 [==============================] - 59s 827ms/step - loss: 1.0958 - accuracy: 0.5865 - val_loss: 1.0624 - val_accuracy: 0.6250\n",
            "Epoch 24/100\n",
            "71/71 [==============================] - ETA: 0s - loss: 1.0984 - accuracy: 0.5856\n",
            "Epoch 00024: val_accuracy did not improve from 0.62500\n",
            "71/71 [==============================] - 58s 812ms/step - loss: 1.0984 - accuracy: 0.5856 - val_loss: 1.1255 - val_accuracy: 0.5893\n",
            "Epoch 25/100\n",
            "71/71 [==============================] - ETA: 0s - loss: 1.0625 - accuracy: 0.6083\n",
            "Epoch 00025: val_accuracy did not improve from 0.62500\n",
            "71/71 [==============================] - 57s 806ms/step - loss: 1.0625 - accuracy: 0.6083 - val_loss: 1.1323 - val_accuracy: 0.5938\n",
            "Epoch 26/100\n",
            "71/71 [==============================] - ETA: 0s - loss: 1.0545 - accuracy: 0.6096\n",
            "Epoch 00026: val_accuracy did not improve from 0.62500\n",
            "71/71 [==============================] - 57s 809ms/step - loss: 1.0545 - accuracy: 0.6096 - val_loss: 1.0772 - val_accuracy: 0.5938\n",
            "Epoch 27/100\n",
            "71/71 [==============================] - ETA: 0s - loss: 1.0274 - accuracy: 0.6150\n",
            "Epoch 00027: val_accuracy did not improve from 0.62500\n",
            "71/71 [==============================] - 58s 816ms/step - loss: 1.0274 - accuracy: 0.6150 - val_loss: 1.0843 - val_accuracy: 0.5938\n",
            "Epoch 28/100\n",
            "71/71 [==============================] - ETA: 0s - loss: 1.0113 - accuracy: 0.6239\n",
            "Epoch 00028: val_accuracy did not improve from 0.62500\n",
            "71/71 [==============================] - 58s 811ms/step - loss: 1.0113 - accuracy: 0.6239 - val_loss: 1.0814 - val_accuracy: 0.6161\n",
            "Epoch 29/100\n",
            "71/71 [==============================] - ETA: 0s - loss: 1.0257 - accuracy: 0.6257\n",
            "Epoch 00029: val_accuracy did not improve from 0.62500\n",
            "71/71 [==============================] - 58s 810ms/step - loss: 1.0257 - accuracy: 0.6257 - val_loss: 0.9777 - val_accuracy: 0.6250\n",
            "Epoch 30/100\n",
            "71/71 [==============================] - ETA: 0s - loss: 0.9977 - accuracy: 0.6248\n",
            "Epoch 00030: val_accuracy did not improve from 0.62500\n",
            "71/71 [==============================] - 57s 808ms/step - loss: 0.9977 - accuracy: 0.6248 - val_loss: 1.0530 - val_accuracy: 0.6027\n",
            "Epoch 31/100\n",
            "71/71 [==============================] - ETA: 0s - loss: 1.0094 - accuracy: 0.6208\n",
            "Epoch 00031: val_accuracy did not improve from 0.62500\n",
            "71/71 [==============================] - 57s 807ms/step - loss: 1.0094 - accuracy: 0.6208 - val_loss: 1.0514 - val_accuracy: 0.6250\n",
            "Epoch 32/100\n",
            "71/71 [==============================] - ETA: 0s - loss: 0.9908 - accuracy: 0.6270\n",
            "Epoch 00032: val_accuracy improved from 0.62500 to 0.63839, saving model to gdrive/My Drive/ml/yu/garbage_cnn.h5\n",
            "71/71 [==============================] - 59s 832ms/step - loss: 0.9908 - accuracy: 0.6270 - val_loss: 1.0063 - val_accuracy: 0.6384\n",
            "Epoch 33/100\n",
            "71/71 [==============================] - ETA: 0s - loss: 0.9732 - accuracy: 0.6306\n",
            "Epoch 00033: val_accuracy did not improve from 0.63839\n",
            "71/71 [==============================] - 58s 812ms/step - loss: 0.9732 - accuracy: 0.6306 - val_loss: 0.9432 - val_accuracy: 0.6384\n",
            "Epoch 34/100\n",
            "71/71 [==============================] - ETA: 0s - loss: 0.9556 - accuracy: 0.6475\n",
            "Epoch 00034: val_accuracy did not improve from 0.63839\n",
            "71/71 [==============================] - 58s 815ms/step - loss: 0.9556 - accuracy: 0.6475 - val_loss: 1.0415 - val_accuracy: 0.6339\n",
            "Epoch 35/100\n",
            "71/71 [==============================] - ETA: 0s - loss: 0.9690 - accuracy: 0.6471\n",
            "Epoch 00035: val_accuracy did not improve from 0.63839\n",
            "71/71 [==============================] - 58s 811ms/step - loss: 0.9690 - accuracy: 0.6471 - val_loss: 1.0255 - val_accuracy: 0.6339\n",
            "Epoch 36/100\n",
            "71/71 [==============================] - ETA: 0s - loss: 0.9672 - accuracy: 0.6288\n",
            "Epoch 00036: val_accuracy did not improve from 0.63839\n",
            "71/71 [==============================] - 57s 807ms/step - loss: 0.9672 - accuracy: 0.6288 - val_loss: 1.0477 - val_accuracy: 0.6027\n",
            "Epoch 37/100\n",
            "71/71 [==============================] - ETA: 0s - loss: 0.9874 - accuracy: 0.6480\n",
            "Epoch 00037: val_accuracy did not improve from 0.63839\n",
            "71/71 [==============================] - 58s 814ms/step - loss: 0.9874 - accuracy: 0.6480 - val_loss: 1.1768 - val_accuracy: 0.5759\n",
            "Epoch 38/100\n",
            "71/71 [==============================] - ETA: 0s - loss: 0.9760 - accuracy: 0.6475\n",
            "Epoch 00038: val_accuracy did not improve from 0.63839\n",
            "71/71 [==============================] - 57s 808ms/step - loss: 0.9760 - accuracy: 0.6475 - val_loss: 0.9840 - val_accuracy: 0.6295\n",
            "Epoch 39/100\n",
            "71/71 [==============================] - ETA: 0s - loss: 0.9428 - accuracy: 0.6533\n",
            "Epoch 00039: val_accuracy improved from 0.63839 to 0.66518, saving model to gdrive/My Drive/ml/yu/garbage_cnn.h5\n",
            "71/71 [==============================] - 58s 820ms/step - loss: 0.9428 - accuracy: 0.6533 - val_loss: 0.9178 - val_accuracy: 0.6652\n",
            "Epoch 40/100\n",
            "71/71 [==============================] - ETA: 0s - loss: 0.9320 - accuracy: 0.6542\n",
            "Epoch 00040: val_accuracy did not improve from 0.66518\n",
            "71/71 [==============================] - 57s 806ms/step - loss: 0.9320 - accuracy: 0.6542 - val_loss: 1.0425 - val_accuracy: 0.6250\n",
            "Epoch 41/100\n",
            "71/71 [==============================] - ETA: 0s - loss: 0.9375 - accuracy: 0.6586\n",
            "Epoch 00041: val_accuracy did not improve from 0.66518\n",
            "71/71 [==============================] - 57s 806ms/step - loss: 0.9375 - accuracy: 0.6586 - val_loss: 1.0242 - val_accuracy: 0.6250\n",
            "Epoch 42/100\n",
            "71/71 [==============================] - ETA: 0s - loss: 0.9287 - accuracy: 0.6578\n",
            "Epoch 00042: val_accuracy did not improve from 0.66518\n",
            "71/71 [==============================] - 57s 808ms/step - loss: 0.9287 - accuracy: 0.6578 - val_loss: 0.9217 - val_accuracy: 0.6562\n",
            "Epoch 43/100\n",
            "71/71 [==============================] - ETA: 0s - loss: 0.9243 - accuracy: 0.6622\n",
            "Epoch 00043: val_accuracy did not improve from 0.66518\n",
            "71/71 [==============================] - 58s 811ms/step - loss: 0.9243 - accuracy: 0.6622 - val_loss: 0.9060 - val_accuracy: 0.6562\n",
            "Epoch 44/100\n",
            "71/71 [==============================] - ETA: 0s - loss: 0.8645 - accuracy: 0.6832\n",
            "Epoch 00044: val_accuracy improved from 0.66518 to 0.67857, saving model to gdrive/My Drive/ml/yu/garbage_cnn.h5\n",
            "71/71 [==============================] - 58s 823ms/step - loss: 0.8645 - accuracy: 0.6832 - val_loss: 0.9106 - val_accuracy: 0.6786\n",
            "Epoch 45/100\n",
            "71/71 [==============================] - ETA: 0s - loss: 0.8645 - accuracy: 0.6778\n",
            "Epoch 00045: val_accuracy did not improve from 0.67857\n",
            "71/71 [==============================] - 58s 811ms/step - loss: 0.8645 - accuracy: 0.6778 - val_loss: 0.8762 - val_accuracy: 0.6429\n",
            "Epoch 46/100\n",
            "71/71 [==============================] - ETA: 0s - loss: 0.9135 - accuracy: 0.6613\n",
            "Epoch 00046: val_accuracy did not improve from 0.67857\n",
            "71/71 [==============================] - 57s 799ms/step - loss: 0.9135 - accuracy: 0.6613 - val_loss: 0.9941 - val_accuracy: 0.6250\n",
            "Epoch 47/100\n",
            "71/71 [==============================] - ETA: 0s - loss: 0.8907 - accuracy: 0.6734\n",
            "Epoch 00047: val_accuracy did not improve from 0.67857\n",
            "71/71 [==============================] - 56s 788ms/step - loss: 0.8907 - accuracy: 0.6734 - val_loss: 0.8995 - val_accuracy: 0.6652\n",
            "Epoch 48/100\n",
            "71/71 [==============================] - ETA: 0s - loss: 0.8841 - accuracy: 0.6858\n",
            "Epoch 00048: val_accuracy improved from 0.67857 to 0.68304, saving model to gdrive/My Drive/ml/yu/garbage_cnn.h5\n",
            "71/71 [==============================] - 57s 801ms/step - loss: 0.8841 - accuracy: 0.6858 - val_loss: 0.8756 - val_accuracy: 0.6830\n",
            "Epoch 49/100\n",
            "71/71 [==============================] - ETA: 0s - loss: 0.8793 - accuracy: 0.6729\n",
            "Epoch 00049: val_accuracy did not improve from 0.68304\n",
            "71/71 [==============================] - 55s 780ms/step - loss: 0.8793 - accuracy: 0.6729 - val_loss: 0.9417 - val_accuracy: 0.6652\n",
            "Epoch 50/100\n",
            "71/71 [==============================] - ETA: 0s - loss: 0.8645 - accuracy: 0.6809\n",
            "Epoch 00050: val_accuracy improved from 0.68304 to 0.68750, saving model to gdrive/My Drive/ml/yu/garbage_cnn.h5\n",
            "71/71 [==============================] - 56s 791ms/step - loss: 0.8645 - accuracy: 0.6809 - val_loss: 0.9846 - val_accuracy: 0.6875\n",
            "Epoch 51/100\n",
            "71/71 [==============================] - ETA: 0s - loss: 0.8462 - accuracy: 0.6907\n",
            "Epoch 00051: val_accuracy improved from 0.68750 to 0.70982, saving model to gdrive/My Drive/ml/yu/garbage_cnn.h5\n",
            "71/71 [==============================] - 56s 785ms/step - loss: 0.8462 - accuracy: 0.6907 - val_loss: 0.9083 - val_accuracy: 0.7098\n",
            "Epoch 52/100\n",
            "71/71 [==============================] - ETA: 0s - loss: 0.8494 - accuracy: 0.6939\n",
            "Epoch 00052: val_accuracy did not improve from 0.70982\n",
            "71/71 [==============================] - 55s 779ms/step - loss: 0.8494 - accuracy: 0.6939 - val_loss: 0.9576 - val_accuracy: 0.6696\n",
            "Epoch 53/100\n",
            "71/71 [==============================] - ETA: 0s - loss: 0.8497 - accuracy: 0.6872\n",
            "Epoch 00053: val_accuracy did not improve from 0.70982\n",
            "71/71 [==============================] - 55s 781ms/step - loss: 0.8497 - accuracy: 0.6872 - val_loss: 0.9396 - val_accuracy: 0.6920\n",
            "Epoch 54/100\n",
            "71/71 [==============================] - ETA: 0s - loss: 0.8339 - accuracy: 0.6970\n",
            "Epoch 00054: val_accuracy did not improve from 0.70982\n",
            "71/71 [==============================] - 55s 780ms/step - loss: 0.8339 - accuracy: 0.6970 - val_loss: 0.8525 - val_accuracy: 0.6741\n",
            "Epoch 55/100\n",
            "71/71 [==============================] - ETA: 0s - loss: 0.8673 - accuracy: 0.6684\n",
            "Epoch 00055: val_accuracy did not improve from 0.70982\n",
            "71/71 [==============================] - 55s 775ms/step - loss: 0.8673 - accuracy: 0.6684 - val_loss: 0.9660 - val_accuracy: 0.6250\n",
            "Epoch 56/100\n",
            "71/71 [==============================] - ETA: 0s - loss: 0.8762 - accuracy: 0.6729\n",
            "Epoch 00056: val_accuracy did not improve from 0.70982\n",
            "71/71 [==============================] - 54s 765ms/step - loss: 0.8762 - accuracy: 0.6729 - val_loss: 0.9949 - val_accuracy: 0.6607\n",
            "Epoch 57/100\n",
            "71/71 [==============================] - ETA: 0s - loss: 0.8386 - accuracy: 0.7007\n",
            "Epoch 00057: val_accuracy did not improve from 0.70982\n",
            "71/71 [==============================] - 55s 770ms/step - loss: 0.8386 - accuracy: 0.7007 - val_loss: 0.8328 - val_accuracy: 0.7098\n",
            "Epoch 58/100\n",
            "71/71 [==============================] - ETA: 0s - loss: 0.8283 - accuracy: 0.7041\n",
            "Epoch 00058: val_accuracy improved from 0.70982 to 0.72768, saving model to gdrive/My Drive/ml/yu/garbage_cnn.h5\n",
            "71/71 [==============================] - 55s 780ms/step - loss: 0.8283 - accuracy: 0.7041 - val_loss: 0.8600 - val_accuracy: 0.7277\n",
            "Epoch 59/100\n",
            "71/71 [==============================] - ETA: 0s - loss: 0.8244 - accuracy: 0.7010\n",
            "Epoch 00059: val_accuracy did not improve from 0.72768\n",
            "71/71 [==============================] - 55s 780ms/step - loss: 0.8244 - accuracy: 0.7010 - val_loss: 0.8410 - val_accuracy: 0.7143\n",
            "Epoch 60/100\n",
            "71/71 [==============================] - ETA: 0s - loss: 0.7810 - accuracy: 0.7197\n",
            "Epoch 00060: val_accuracy did not improve from 0.72768\n",
            "71/71 [==============================] - 55s 780ms/step - loss: 0.7810 - accuracy: 0.7197 - val_loss: 0.8464 - val_accuracy: 0.6652\n",
            "Epoch 61/100\n",
            "71/71 [==============================] - ETA: 0s - loss: 0.7662 - accuracy: 0.7197\n",
            "Epoch 00061: val_accuracy did not improve from 0.72768\n",
            "71/71 [==============================] - 56s 794ms/step - loss: 0.7662 - accuracy: 0.7197 - val_loss: 0.8495 - val_accuracy: 0.6830\n",
            "Epoch 62/100\n",
            "71/71 [==============================] - ETA: 0s - loss: 0.8139 - accuracy: 0.7005\n",
            "Epoch 00062: val_accuracy did not improve from 0.72768\n",
            "71/71 [==============================] - 56s 791ms/step - loss: 0.8139 - accuracy: 0.7005 - val_loss: 0.8302 - val_accuracy: 0.7009\n",
            "Epoch 63/100\n",
            "71/71 [==============================] - ETA: 0s - loss: 0.8275 - accuracy: 0.7005\n",
            "Epoch 00063: val_accuracy did not improve from 0.72768\n",
            "71/71 [==============================] - 57s 799ms/step - loss: 0.8275 - accuracy: 0.7005 - val_loss: 0.8357 - val_accuracy: 0.7054\n",
            "Epoch 64/100\n",
            "71/71 [==============================] - ETA: 0s - loss: 0.7662 - accuracy: 0.7228\n",
            "Epoch 00064: val_accuracy improved from 0.72768 to 0.73214, saving model to gdrive/My Drive/ml/yu/garbage_cnn.h5\n",
            "71/71 [==============================] - 58s 824ms/step - loss: 0.7662 - accuracy: 0.7228 - val_loss: 0.7886 - val_accuracy: 0.7321\n",
            "Epoch 65/100\n",
            "71/71 [==============================] - ETA: 0s - loss: 0.7610 - accuracy: 0.7357\n",
            "Epoch 00065: val_accuracy did not improve from 0.73214\n",
            "71/71 [==============================] - 57s 809ms/step - loss: 0.7610 - accuracy: 0.7357 - val_loss: 0.7640 - val_accuracy: 0.7277\n",
            "Epoch 66/100\n",
            "71/71 [==============================] - ETA: 0s - loss: 0.7340 - accuracy: 0.7299\n",
            "Epoch 00066: val_accuracy did not improve from 0.73214\n",
            "71/71 [==============================] - 57s 806ms/step - loss: 0.7340 - accuracy: 0.7299 - val_loss: 0.8448 - val_accuracy: 0.7188\n",
            "Epoch 67/100\n",
            "71/71 [==============================] - ETA: 0s - loss: 0.7182 - accuracy: 0.7264\n",
            "Epoch 00067: val_accuracy did not improve from 0.73214\n",
            "71/71 [==============================] - 57s 797ms/step - loss: 0.7182 - accuracy: 0.7264 - val_loss: 0.7500 - val_accuracy: 0.7277\n",
            "Epoch 68/100\n",
            "71/71 [==============================] - ETA: 0s - loss: 0.7999 - accuracy: 0.7050\n",
            "Epoch 00068: val_accuracy did not improve from 0.73214\n",
            "71/71 [==============================] - 57s 796ms/step - loss: 0.7999 - accuracy: 0.7050 - val_loss: 0.7515 - val_accuracy: 0.7232\n",
            "Epoch 69/100\n",
            "71/71 [==============================] - ETA: 0s - loss: 0.7547 - accuracy: 0.7170\n",
            "Epoch 00069: val_accuracy did not improve from 0.73214\n",
            "71/71 [==============================] - 57s 796ms/step - loss: 0.7547 - accuracy: 0.7170 - val_loss: 0.8414 - val_accuracy: 0.7277\n",
            "Epoch 70/100\n",
            "71/71 [==============================] - ETA: 0s - loss: 0.7483 - accuracy: 0.7322\n",
            "Epoch 00070: val_accuracy did not improve from 0.73214\n",
            "71/71 [==============================] - 57s 802ms/step - loss: 0.7483 - accuracy: 0.7322 - val_loss: 0.8205 - val_accuracy: 0.6920\n",
            "Epoch 71/100\n",
            "71/71 [==============================] - ETA: 0s - loss: 0.7511 - accuracy: 0.7295\n",
            "Epoch 00071: val_accuracy did not improve from 0.73214\n",
            "71/71 [==============================] - 57s 802ms/step - loss: 0.7511 - accuracy: 0.7295 - val_loss: 0.8346 - val_accuracy: 0.6920\n",
            "Epoch 72/100\n",
            "71/71 [==============================] - ETA: 0s - loss: 0.7532 - accuracy: 0.7210\n",
            "Epoch 00072: val_accuracy did not improve from 0.73214\n",
            "71/71 [==============================] - 57s 801ms/step - loss: 0.7532 - accuracy: 0.7210 - val_loss: 0.7891 - val_accuracy: 0.7054\n",
            "Epoch 73/100\n",
            "71/71 [==============================] - ETA: 0s - loss: 0.7427 - accuracy: 0.7273\n",
            "Epoch 00073: val_accuracy did not improve from 0.73214\n",
            "71/71 [==============================] - 57s 801ms/step - loss: 0.7427 - accuracy: 0.7273 - val_loss: 0.7980 - val_accuracy: 0.6696\n",
            "Epoch 74/100\n",
            "71/71 [==============================] - ETA: 0s - loss: 0.7281 - accuracy: 0.7255\n",
            "Epoch 00074: val_accuracy did not improve from 0.73214\n",
            "71/71 [==============================] - 57s 808ms/step - loss: 0.7281 - accuracy: 0.7255 - val_loss: 0.8107 - val_accuracy: 0.7054\n",
            "Epoch 75/100\n",
            "71/71 [==============================] - ETA: 0s - loss: 0.7450 - accuracy: 0.7317\n",
            "Epoch 00075: val_accuracy did not improve from 0.73214\n",
            "71/71 [==============================] - 58s 814ms/step - loss: 0.7450 - accuracy: 0.7317 - val_loss: 0.8772 - val_accuracy: 0.7009\n",
            "Epoch 76/100\n",
            "71/71 [==============================] - ETA: 0s - loss: 0.7335 - accuracy: 0.7313\n",
            "Epoch 00076: val_accuracy did not improve from 0.73214\n",
            "71/71 [==============================] - 57s 803ms/step - loss: 0.7335 - accuracy: 0.7313 - val_loss: 0.7724 - val_accuracy: 0.7009\n",
            "Epoch 77/100\n",
            "71/71 [==============================] - ETA: 0s - loss: 0.7222 - accuracy: 0.7233\n",
            "Epoch 00077: val_accuracy did not improve from 0.73214\n",
            "71/71 [==============================] - 57s 802ms/step - loss: 0.7222 - accuracy: 0.7233 - val_loss: 0.8293 - val_accuracy: 0.7143\n",
            "Epoch 78/100\n",
            "71/71 [==============================] - ETA: 0s - loss: 0.6634 - accuracy: 0.7589\n",
            "Epoch 00078: val_accuracy did not improve from 0.73214\n",
            "71/71 [==============================] - 57s 801ms/step - loss: 0.6634 - accuracy: 0.7589 - val_loss: 0.8187 - val_accuracy: 0.7188\n",
            "Epoch 79/100\n",
            "71/71 [==============================] - ETA: 0s - loss: 0.7015 - accuracy: 0.7415\n",
            "Epoch 00079: val_accuracy did not improve from 0.73214\n",
            "71/71 [==============================] - 57s 802ms/step - loss: 0.7015 - accuracy: 0.7415 - val_loss: 0.7894 - val_accuracy: 0.7277\n",
            "Epoch 80/100\n",
            "71/71 [==============================] - ETA: 0s - loss: 0.6956 - accuracy: 0.7500\n",
            "Epoch 00080: val_accuracy did not improve from 0.73214\n",
            "71/71 [==============================] - 57s 804ms/step - loss: 0.6956 - accuracy: 0.7500 - val_loss: 0.9604 - val_accuracy: 0.6964\n",
            "Epoch 81/100\n",
            "71/71 [==============================] - ETA: 0s - loss: 0.7185 - accuracy: 0.7299\n",
            "Epoch 00081: val_accuracy did not improve from 0.73214\n",
            "71/71 [==============================] - 58s 812ms/step - loss: 0.7185 - accuracy: 0.7299 - val_loss: 0.7935 - val_accuracy: 0.7098\n",
            "Epoch 82/100\n",
            "71/71 [==============================] - ETA: 0s - loss: 0.6705 - accuracy: 0.7509\n",
            "Epoch 00082: val_accuracy improved from 0.73214 to 0.74107, saving model to gdrive/My Drive/ml/yu/garbage_cnn.h5\n",
            "71/71 [==============================] - 58s 822ms/step - loss: 0.6705 - accuracy: 0.7509 - val_loss: 0.7621 - val_accuracy: 0.7411\n",
            "Epoch 83/100\n",
            "71/71 [==============================] - ETA: 0s - loss: 0.6448 - accuracy: 0.7602\n",
            "Epoch 00083: val_accuracy did not improve from 0.74107\n",
            "71/71 [==============================] - 57s 807ms/step - loss: 0.6448 - accuracy: 0.7602 - val_loss: 0.8546 - val_accuracy: 0.7232\n",
            "Epoch 84/100\n",
            "71/71 [==============================] - ETA: 0s - loss: 0.7035 - accuracy: 0.7424\n",
            "Epoch 00084: val_accuracy improved from 0.74107 to 0.75000, saving model to gdrive/My Drive/ml/yu/garbage_cnn.h5\n",
            "71/71 [==============================] - 58s 817ms/step - loss: 0.7035 - accuracy: 0.7424 - val_loss: 0.7246 - val_accuracy: 0.7500\n",
            "Epoch 85/100\n",
            "71/71 [==============================] - ETA: 0s - loss: 0.6731 - accuracy: 0.7567\n",
            "Epoch 00085: val_accuracy did not improve from 0.75000\n",
            "71/71 [==============================] - 57s 802ms/step - loss: 0.6731 - accuracy: 0.7567 - val_loss: 0.7632 - val_accuracy: 0.7366\n",
            "Epoch 86/100\n",
            "71/71 [==============================] - ETA: 0s - loss: 0.6742 - accuracy: 0.7536\n",
            "Epoch 00086: val_accuracy did not improve from 0.75000\n",
            "71/71 [==============================] - 57s 807ms/step - loss: 0.6742 - accuracy: 0.7536 - val_loss: 0.7578 - val_accuracy: 0.7455\n",
            "Epoch 87/100\n",
            "71/71 [==============================] - ETA: 0s - loss: 0.6455 - accuracy: 0.7696\n",
            "Epoch 00087: val_accuracy did not improve from 0.75000\n",
            "71/71 [==============================] - 57s 803ms/step - loss: 0.6455 - accuracy: 0.7696 - val_loss: 0.7898 - val_accuracy: 0.7411\n",
            "Epoch 88/100\n",
            "71/71 [==============================] - ETA: 0s - loss: 0.6827 - accuracy: 0.7509\n",
            "Epoch 00088: val_accuracy did not improve from 0.75000\n",
            "71/71 [==============================] - 57s 801ms/step - loss: 0.6827 - accuracy: 0.7509 - val_loss: 0.7912 - val_accuracy: 0.7009\n",
            "Epoch 89/100\n",
            "71/71 [==============================] - ETA: 0s - loss: 0.6696 - accuracy: 0.7562\n",
            "Epoch 00089: val_accuracy did not improve from 0.75000\n",
            "71/71 [==============================] - 57s 802ms/step - loss: 0.6696 - accuracy: 0.7562 - val_loss: 0.7953 - val_accuracy: 0.7009\n",
            "Epoch 90/100\n",
            "71/71 [==============================] - ETA: 0s - loss: 0.6728 - accuracy: 0.7473\n",
            "Epoch 00090: val_accuracy did not improve from 0.75000\n",
            "71/71 [==============================] - 57s 803ms/step - loss: 0.6728 - accuracy: 0.7473 - val_loss: 0.7475 - val_accuracy: 0.7188\n",
            "Epoch 91/100\n",
            "71/71 [==============================] - ETA: 0s - loss: 0.6473 - accuracy: 0.7531\n",
            "Epoch 00091: val_accuracy did not improve from 0.75000\n",
            "71/71 [==============================] - 58s 810ms/step - loss: 0.6473 - accuracy: 0.7531 - val_loss: 0.9657 - val_accuracy: 0.7143\n",
            "Epoch 92/100\n",
            "71/71 [==============================] - ETA: 0s - loss: 0.6626 - accuracy: 0.7527\n",
            "Epoch 00092: val_accuracy did not improve from 0.75000\n",
            "71/71 [==============================] - 57s 805ms/step - loss: 0.6626 - accuracy: 0.7527 - val_loss: 0.8172 - val_accuracy: 0.7143\n",
            "Epoch 93/100\n",
            "71/71 [==============================] - ETA: 0s - loss: 0.6551 - accuracy: 0.7678\n",
            "Epoch 00093: val_accuracy did not improve from 0.75000\n",
            "71/71 [==============================] - 57s 803ms/step - loss: 0.6551 - accuracy: 0.7678 - val_loss: 0.7445 - val_accuracy: 0.7054\n",
            "Epoch 94/100\n",
            "71/71 [==============================] - ETA: 0s - loss: 0.6691 - accuracy: 0.7545\n",
            "Epoch 00094: val_accuracy did not improve from 0.75000\n",
            "71/71 [==============================] - 57s 800ms/step - loss: 0.6691 - accuracy: 0.7545 - val_loss: 0.8235 - val_accuracy: 0.7321\n",
            "Epoch 95/100\n",
            "71/71 [==============================] - ETA: 0s - loss: 0.6822 - accuracy: 0.7576\n",
            "Epoch 00095: val_accuracy did not improve from 0.75000\n",
            "71/71 [==============================] - 57s 798ms/step - loss: 0.6822 - accuracy: 0.7576 - val_loss: 0.8774 - val_accuracy: 0.7366\n",
            "Epoch 96/100\n",
            "71/71 [==============================] - ETA: 0s - loss: 0.6376 - accuracy: 0.7645\n",
            "Epoch 00096: val_accuracy did not improve from 0.75000\n",
            "71/71 [==============================] - 57s 806ms/step - loss: 0.6376 - accuracy: 0.7645 - val_loss: 0.7622 - val_accuracy: 0.7321\n",
            "Epoch 97/100\n",
            "71/71 [==============================] - ETA: 0s - loss: 0.6186 - accuracy: 0.7741\n",
            "Epoch 00097: val_accuracy did not improve from 0.75000\n",
            "71/71 [==============================] - 58s 812ms/step - loss: 0.6186 - accuracy: 0.7741 - val_loss: 0.8259 - val_accuracy: 0.7232\n",
            "Epoch 98/100\n",
            "71/71 [==============================] - ETA: 0s - loss: 0.6621 - accuracy: 0.7549\n",
            "Epoch 00098: val_accuracy did not improve from 0.75000\n",
            "71/71 [==============================] - 57s 808ms/step - loss: 0.6621 - accuracy: 0.7549 - val_loss: 0.8526 - val_accuracy: 0.7232\n",
            "Epoch 99/100\n",
            "71/71 [==============================] - ETA: 0s - loss: 0.6679 - accuracy: 0.7522\n",
            "Epoch 00099: val_accuracy did not improve from 0.75000\n",
            "71/71 [==============================] - 57s 805ms/step - loss: 0.6679 - accuracy: 0.7522 - val_loss: 0.8314 - val_accuracy: 0.7009\n",
            "Epoch 100/100\n",
            "71/71 [==============================] - ETA: 0s - loss: 0.6529 - accuracy: 0.7580\n",
            "Epoch 00100: val_accuracy did not improve from 0.75000\n",
            "71/71 [==============================] - 57s 806ms/step - loss: 0.6529 - accuracy: 0.7580 - val_loss: 0.8762 - val_accuracy: 0.7009\n"
          ],
          "name": "stdout"
        }
      ]
    },
    {
      "cell_type": "code",
      "metadata": {
        "id": "rBhUUZdG8nvB",
        "colab_type": "code",
        "colab": {
          "base_uri": "https://localhost:8080/",
          "height": 105
        },
        "outputId": "d5125efc-8ef8-4522-8814-0b02f2d81c1d"
      },
      "source": [
        "# Evaluate Model\n",
        "score = model.evaluate_generator(test_generator, steps=step_size_test)\n",
        "print(score)\n"
      ],
      "execution_count": 15,
      "outputs": [
        {
          "output_type": "stream",
          "text": [
            "WARNING:tensorflow:From <ipython-input-15-46b426b9d1f9>:2: Model.evaluate_generator (from tensorflow.python.keras.engine.training) is deprecated and will be removed in a future version.\n",
            "Instructions for updating:\n",
            "Please use Model.evaluate, which supports generators.\n",
            "[0.8046649694442749, 0.7276785969734192]\n"
          ],
          "name": "stdout"
        }
      ]
    },
    {
      "cell_type": "code",
      "metadata": {
        "id": "vhl_cTyQM7Qb",
        "colab_type": "code",
        "colab": {}
      },
      "source": [
        ""
      ],
      "execution_count": 15,
      "outputs": []
    }
  ]
}